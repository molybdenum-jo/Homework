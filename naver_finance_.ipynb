{
  "nbformat": 4,
  "nbformat_minor": 0,
  "metadata": {
    "colab": {
      "provenance": [],
      "authorship_tag": "ABX9TyM9bsZWkSrRDF7Rvr9OjMEq",
      "include_colab_link": true
    },
    "kernelspec": {
      "name": "python3",
      "display_name": "Python 3"
    },
    "language_info": {
      "name": "python"
    }
  },
  "cells": [
    {
      "cell_type": "markdown",
      "metadata": {
        "id": "view-in-github",
        "colab_type": "text"
      },
      "source": [
        "<a href=\"https://colab.research.google.com/github/molybdenum-jo/Homework/blob/main/naver_finance_.ipynb\" target=\"_parent\"><img src=\"https://colab.research.google.com/assets/colab-badge.svg\" alt=\"Open In Colab\"/></a>"
      ]
    },
    {
      "cell_type": "markdown",
      "source": [
        "**수집할 페이지 보기**\n",
        "\n",
        "네이버 금융 국내증시 : https://finance.naver.com/sise/\n",
        "\n",
        "주요 종목\n",
        "\n",
        "삼성전자 : https://finance.naver.com/item/main.naver?code=005930\n",
        "\n",
        "현대차 : https://finance.naver.com/item/main.naver?code=005380\n",
        "\n",
        "SK하이닉스 : https://finance.naver.com/item/main.naver?code=000660\n"
      ],
      "metadata": {
        "id": "i74Aatidf94y"
      }
    },
    {
      "cell_type": "code",
      "source": [
        "import pandas as pd\n",
        "from bs4 import BeautifulSoup as bs\n",
        "import requests\n",
        "from tqdm import tqdm\n",
        "import time"
      ],
      "metadata": {
        "id": "nQNrWV_e3WQk"
      },
      "execution_count": null,
      "outputs": []
    },
    {
      "cell_type": "code",
      "source": [
        "headers = {\"user-agent\": \"Mozilla/5.0\"}\n",
        "item_code = \"000660\"\n",
        "page_no = 1\n",
        "url = f\"https://finance.naver.com/item/board.naver?code={item_code}&page={page_no}\"\n",
        "requests.get(url, headers=headers)"
      ],
      "metadata": {
        "colab": {
          "base_uri": "https://localhost:8080/"
        },
        "id": "sKx1v6c-6Avz",
        "outputId": "58f52d12-56e0-4d4f-e5a4-daa2028e3372"
      },
      "execution_count": null,
      "outputs": [
        {
          "output_type": "execute_result",
          "data": {
            "text/plain": [
              "<Response [200]>"
            ]
          },
          "metadata": {},
          "execution_count": 45
        }
      ]
    },
    {
      "cell_type": "markdown",
      "source": [],
      "metadata": {
        "id": "rg76NypX4S3o"
      }
    },
    {
      "cell_type": "code",
      "source": [
        "html = bs(response.text)"
      ],
      "metadata": {
        "id": "qCc_ciVw6xgv"
      },
      "execution_count": null,
      "outputs": []
    },
    {
      "cell_type": "code",
      "source": [
        "last_page=int(html.select('#content tbody > tr > td > a')[-2]['href'].split('=')[-1])\n",
        "last_page"
      ],
      "metadata": {
        "colab": {
          "base_uri": "https://localhost:8080/"
        },
        "id": "VcQhA2-4OkMz",
        "outputId": "72554021-9b95-48d5-fa1b-06405c56852f"
      },
      "execution_count": null,
      "outputs": [
        {
          "output_type": "execute_result",
          "data": {
            "text/plain": [
              "11"
            ]
          },
          "metadata": {},
          "execution_count": 47
        }
      ]
    },
    {
      "cell_type": "code",
      "source": [
        "html.select(\"table.type2 > tbody\")"
      ],
      "metadata": {
        "colab": {
          "base_uri": "https://localhost:8080/"
        },
        "id": "DOWuFaQ27d3O",
        "outputId": "6ab0e5fe-97a4-4ac1-e429-dea51e86c6cc"
      },
      "execution_count": null,
      "outputs": [
        {
          "output_type": "execute_result",
          "data": {
            "text/plain": [
              "[<tbody>\n",
              " <tr>\n",
              " <th>날짜</th>\n",
              " <th>제목</th>\n",
              " <th>글쓴이</th>\n",
              " <th>조회</th>\n",
              " <th>공감</th>\n",
              " <th>비공감</th>\n",
              " </tr>\n",
              " <tr><td colspan=\"7\" height=\"8\"></td></tr>\n",
              " <tr align=\"center\" onmouseout=\"mouseOut(this)\" onmouseover=\"mouseOver(this)\">\n",
              " <td><span class=\"tah p10 gray03\">2023.01.15 16:00</span></td>\n",
              " <td class=\"title\">\n",
              " <a href=\"/item/board_read.naver?code=000660&amp;nid=238706353&amp;st=&amp;sw=&amp;page=1\" onclick=\"return singleSubmitCheck();\" title=\"대통령 공약 16호 등장 ㅇ.ㅇ\">대통령 공약 16호 등장 ㅇ.ㅇ\n",
              " \t\t\t\t\n",
              " \t\t\t\t<img height=\"10\" src=\"https://ssl.pstatic.net/imgstock/images5/new.gif\" width=\"10\"/></a></td>\n",
              " <td class=\"p11\">\n",
              " \t\t\t\tk3or****\n",
              " \t\t\t</td>\n",
              " <td><span class=\"tah p10 gray03\">15</span></td>\n",
              " <td><strong class=\"tah p10 gray03 \">0</strong></td>\n",
              " <td><strong class=\"tah p10 gray03 \">0</strong></td>\n",
              " </tr>\n",
              " <tr align=\"center\" onmouseout=\"mouseOut(this)\" onmouseover=\"mouseOver(this)\">\n",
              " <td><span class=\"tah p10 gray03\">2023.01.15 13:24</span></td>\n",
              " <td class=\"title\">\n",
              " <a href=\"/item/board_read.naver?code=000660&amp;nid=238704638&amp;st=&amp;sw=&amp;page=1\" onclick=\"return singleSubmitCheck();\" title=\"한국UN봉사단 수석 부총재 임명\">한국UN봉사단 수석 부총재 임명\n",
              " \t\t\t\t\n",
              " \t\t\t\t<img height=\"10\" src=\"https://ssl.pstatic.net/imgstock/images5/new.gif\" width=\"10\"/></a></td>\n",
              " <td class=\"p11\">\n",
              " \t\t\t\tange****\n",
              " \t\t\t</td>\n",
              " <td><span class=\"tah p10 gray03\">164</span></td>\n",
              " <td><strong class=\"tah p10 gray03 \">0</strong></td>\n",
              " <td><strong class=\"tah p10 gray03 \">0</strong></td>\n",
              " </tr>\n",
              " <tr align=\"center\" onmouseout=\"mouseOut(this)\" onmouseover=\"mouseOver(this)\">\n",
              " <td><span class=\"tah p10 gray03\">2023.01.15 13:19</span></td>\n",
              " <td class=\"title\">\n",
              " <a href=\"/item/board_read.naver?code=000660&amp;nid=238704596&amp;st=&amp;sw=&amp;page=1\" onclick=\"return singleSubmitCheck();\" title=\"기득권 언론들은 왜 이재명 사법리스크가 있는것 처럼 매일같이 이야기를 하고 있을까. 이것은 조직적인 음모가 아닐까요\">기득권 언론들은 왜 이재명 사법리스크가 ...\n",
              " \t\t\t\t<span class=\"tah p9\" style=\"color:#639933\">[<b>1</b>]</span>\n",
              " <img height=\"10\" src=\"https://ssl.pstatic.net/imgstock/images5/new.gif\" width=\"10\"/></a></td>\n",
              " <td class=\"p11\">\n",
              " \t\t\t\tleee****\n",
              " \t\t\t</td>\n",
              " <td><span class=\"tah p10 gray03\">233</span></td>\n",
              " <td><strong class=\"tah p10 red01\">5</strong></td>\n",
              " <td><strong class=\"tah p10 blue01\">5</strong></td>\n",
              " </tr>\n",
              " <tr align=\"center\" onmouseout=\"mouseOut(this)\" onmouseover=\"mouseOver(this)\">\n",
              " <td><span class=\"tah p10 gray03\">2023.01.15 12:58</span></td>\n",
              " <td class=\"title\">\n",
              " <a href=\"/item/board_read.naver?code=000660&amp;nid=238704326&amp;st=&amp;sw=&amp;page=1\" onclick=\"return singleSubmitCheck();\" title=\"[우리사회모든 불공정부조리 인문학사회분야해저드가 핵심원인!!]\">[우리사회모든 불공정부조리 인문학사회분야...\n",
              " \t\t\t\t<span class=\"tah p9\" style=\"color:#639933\">[<b>1</b>]</span>\n",
              " <img height=\"10\" src=\"https://ssl.pstatic.net/imgstock/images5/new.gif\" width=\"10\"/></a></td>\n",
              " <td class=\"p11\">\n",
              " \t\t\t\tdcba****\n",
              " \t\t\t</td>\n",
              " <td><span class=\"tah p10 gray03\">173</span></td>\n",
              " <td><strong class=\"tah p10 gray03 \">0</strong></td>\n",
              " <td><strong class=\"tah p10 gray03 \">0</strong></td>\n",
              " </tr>\n",
              " <tr align=\"center\" onmouseout=\"mouseOut(this)\" onmouseover=\"mouseOver(this)\">\n",
              " <td><span class=\"tah p10 gray03\">2023.01.15 12:42</span></td>\n",
              " <td class=\"title\">\n",
              " <a href=\"/item/board_read.naver?code=000660&amp;nid=238704121&amp;st=&amp;sw=&amp;page=1\" onclick=\"return singleSubmitCheck();\" title=\"■■민주당 빨 갱이들의 자유 삭제\">■■민주당 빨 갱이들의 자유 삭제\n",
              " \t\t\t\t<span class=\"tah p9\" style=\"color:#639933\">[<b>2</b>]</span>\n",
              " <img height=\"10\" src=\"https://ssl.pstatic.net/imgstock/images5/new.gif\" width=\"10\"/></a></td>\n",
              " <td class=\"p11\">\n",
              " \t\t\t\tgobo****\n",
              " \t\t\t</td>\n",
              " <td><span class=\"tah p10 gray03\">270</span></td>\n",
              " <td><strong class=\"tah p10 red01\">4</strong></td>\n",
              " <td><strong class=\"tah p10 blue01\">2</strong></td>\n",
              " </tr>\n",
              " <tr>\n",
              " <td bgcolor=\"#e1e1e1\" colspan=\"7\" height=\"1\"></td>\n",
              " </tr>\n",
              " <tr align=\"center\" onmouseout=\"mouseOut(this)\" onmouseover=\"mouseOver(this)\">\n",
              " <td><span class=\"tah p10 gray03\">2023.01.15 12:42</span></td>\n",
              " <td class=\"title\">\n",
              " <a href=\"/item/board_read.naver?code=000660&amp;nid=238704118&amp;st=&amp;sw=&amp;page=1\" onclick=\"return singleSubmitCheck();\" title=\"한반도를 둘러싼 외교안보 환경이 험난하다\">한반도를 둘러싼 외교안보 환경이 험난하다\n",
              " \t\t\t\t\n",
              " \t\t\t\t<img height=\"10\" src=\"https://ssl.pstatic.net/imgstock/images5/new.gif\" width=\"10\"/></a></td>\n",
              " <td class=\"p11\">\n",
              " \t\t\t\treds****\n",
              " \t\t\t</td>\n",
              " <td><span class=\"tah p10 gray03\">184</span></td>\n",
              " <td><strong class=\"tah p10 gray03 \">0</strong></td>\n",
              " <td><strong class=\"tah p10 blue01\">1</strong></td>\n",
              " </tr>\n",
              " <tr align=\"center\" onmouseout=\"mouseOut(this)\" onmouseover=\"mouseOver(this)\">\n",
              " <td><span class=\"tah p10 gray03\">2023.01.15 12:21</span></td>\n",
              " <td class=\"title\">\n",
              " <a href=\"/item/board_read.naver?code=000660&amp;nid=238703886&amp;st=&amp;sw=&amp;page=1\" onclick=\"return singleSubmitCheck();\" title=\"어제 기시다가 미쿡에서 북중 vs 한미일 발언은ㆍ군사적인 대립을\">어제 기시다가 미쿡에서 북중 vs 한미일...\n",
              " \t\t\t\t<span class=\"tah p9\" style=\"color:#639933\">[<b>1</b>]</span>\n",
              " <img height=\"10\" src=\"https://ssl.pstatic.net/imgstock/images5/new.gif\" width=\"10\"/></a></td>\n",
              " <td class=\"p11\">\n",
              " \t\t\t\treds****\n",
              " \t\t\t</td>\n",
              " <td><span class=\"tah p10 gray03\">225</span></td>\n",
              " <td><strong class=\"tah p10 gray03 \">0</strong></td>\n",
              " <td><strong class=\"tah p10 blue01\">1</strong></td>\n",
              " </tr>\n",
              " <tr align=\"center\" onmouseout=\"mouseOut(this)\" onmouseover=\"mouseOver(this)\">\n",
              " <td><span class=\"tah p10 gray03\">2023.01.15 11:55</span></td>\n",
              " <td class=\"title\">\n",
              " <a href=\"/item/board_read.naver?code=000660&amp;nid=238703612&amp;st=&amp;sw=&amp;page=1\" onclick=\"return singleSubmitCheck();\" title=\"역사적으로 오직 나라만 생각하는  민족일보?  동아 조선??\">역사적으로 오직 나라만 생각하는  민족일...\n",
              " \t\t\t\t\n",
              " \t\t\t\t<img height=\"10\" src=\"https://ssl.pstatic.net/imgstock/images5/new.gif\" width=\"10\"/></a></td>\n",
              " <td class=\"p11\">\n",
              " \t\t\t\tbles****\n",
              " \t\t\t</td>\n",
              " <td><span class=\"tah p10 gray03\">323</span></td>\n",
              " <td><strong class=\"tah p10 red01\">2</strong></td>\n",
              " <td><strong class=\"tah p10 gray03 \">0</strong></td>\n",
              " </tr>\n",
              " <tr align=\"center\" onmouseout=\"mouseOut(this)\" onmouseover=\"mouseOver(this)\">\n",
              " <td><span class=\"tah p10 gray03\">2023.01.15 11:54</span></td>\n",
              " <td class=\"title\">\n",
              " <a href=\"/item/board_read.naver?code=000660&amp;nid=238703599&amp;st=&amp;sw=&amp;page=1\" onclick=\"return singleSubmitCheck();\" title=\"KF-21보라매 함재기 수출하기 위해서...\">KF-21보라매 함재기 수출하기 위해서....\n",
              " \t\t\t\t\n",
              " \t\t\t\t<img height=\"10\" src=\"https://ssl.pstatic.net/imgstock/images5/new.gif\" width=\"10\"/></a></td>\n",
              " <td class=\"p11\">\n",
              " \t\t\t\tk3or****\n",
              " \t\t\t</td>\n",
              " <td><span class=\"tah p10 gray03\">236</span></td>\n",
              " <td><strong class=\"tah p10 gray03 \">0</strong></td>\n",
              " <td><strong class=\"tah p10 blue01\">2</strong></td>\n",
              " </tr>\n",
              " <tr align=\"center\" onmouseout=\"mouseOut(this)\" onmouseover=\"mouseOver(this)\">\n",
              " <td><span class=\"tah p10 gray03\">2023.01.15 11:31</span></td>\n",
              " <td class=\"title\">\n",
              " <a href=\"/item/board_read.naver?code=000660&amp;nid=238703354&amp;st=&amp;sw=&amp;page=1\" onclick=\"return singleSubmitCheck();\" title=\"월요일?  보성파워텍 어떻게 될까요?\">월요일?  보성파워텍 어떻게 될까요?\n",
              " \t\t\t\t\n",
              " \t\t\t\t<img height=\"10\" src=\"https://ssl.pstatic.net/imgstock/images5/new.gif\" width=\"10\"/></a></td>\n",
              " <td class=\"p11\">\n",
              " \t\t\t\tbles****\n",
              " \t\t\t</td>\n",
              " <td><span class=\"tah p10 gray03\">354</span></td>\n",
              " <td><strong class=\"tah p10 red01\">2</strong></td>\n",
              " <td><strong class=\"tah p10 blue01\">2</strong></td>\n",
              " </tr>\n",
              " <tr>\n",
              " <td bgcolor=\"#e1e1e1\" colspan=\"7\" height=\"1\"></td>\n",
              " </tr>\n",
              " <tr align=\"center\" onmouseout=\"mouseOut(this)\" onmouseover=\"mouseOver(this)\">\n",
              " <td><span class=\"tah p10 gray03\">2023.01.15 11:14</span></td>\n",
              " <td class=\"title\">\n",
              " <a href=\"/item/board_read.naver?code=000660&amp;nid=238703159&amp;st=&amp;sw=&amp;page=1\" onclick=\"return singleSubmitCheck();\" title=\"통일 대박이 전쟁놀이터로!!\">통일 대박이 전쟁놀이터로!!\n",
              " \t\t\t\t\n",
              " \t\t\t\t<img height=\"10\" src=\"https://ssl.pstatic.net/imgstock/images5/new.gif\" width=\"10\"/></a></td>\n",
              " <td class=\"p11\">\n",
              " \t\t\t\tjky4****\n",
              " \t\t\t</td>\n",
              " <td><span class=\"tah p10 gray03\">377</span></td>\n",
              " <td><strong class=\"tah p10 red01\">2</strong></td>\n",
              " <td><strong class=\"tah p10 blue01\">3</strong></td>\n",
              " </tr>\n",
              " <tr align=\"center\" onmouseout=\"mouseOut(this)\" onmouseover=\"mouseOver(this)\">\n",
              " <td><span class=\"tah p10 gray03\">2023.01.15 11:00</span></td>\n",
              " <td class=\"title\">\n",
              " <a href=\"/item/board_read.naver?code=000660&amp;nid=238702972&amp;st=&amp;sw=&amp;page=1\" onclick=\"return singleSubmitCheck();\" title=\"김만배 '판·검사 로비' 정황, 실명까지 나오는데…공수처 &quot;수사 어려워&quot;, 왜?\">김만배 '판·검사 로비' 정황, 실명까지...\n",
              " \t\t\t\t<span class=\"tah p9\" style=\"color:#639933\">[<b>1</b>]</span>\n",
              " <img height=\"10\" src=\"https://ssl.pstatic.net/imgstock/images5/new.gif\" width=\"10\"/></a></td>\n",
              " <td class=\"p11\">\n",
              " \t\t\t\ttiti****\n",
              " \t\t\t</td>\n",
              " <td><span class=\"tah p10 gray03\">395</span></td>\n",
              " <td><strong class=\"tah p10 red01\">2</strong></td>\n",
              " <td><strong class=\"tah p10 blue01\">2</strong></td>\n",
              " </tr>\n",
              " <tr align=\"center\" onmouseout=\"mouseOut(this)\" onmouseover=\"mouseOver(this)\">\n",
              " <td><span class=\"tah p10 gray03\">2023.01.15 10:50</span></td>\n",
              " <td class=\"title\">\n",
              " <a href=\"/item/board_read.naver?code=000660&amp;nid=238702866&amp;st=&amp;sw=&amp;page=1\" onclick=\"return singleSubmitCheck();\" title=\"반도체 2Q23년 회복 예상??\">반도체 2Q23년 회복 예상??\n",
              " \t\t\t\t\n",
              " \t\t\t\t<img height=\"10\" src=\"https://ssl.pstatic.net/imgstock/images5/new.gif\" width=\"10\"/></a></td>\n",
              " <td class=\"p11\">\n",
              " \t\t\t\tmrle****\n",
              " \t\t\t</td>\n",
              " <td><span class=\"tah p10 gray03\">345</span></td>\n",
              " <td><strong class=\"tah p10 gray03 \">0</strong></td>\n",
              " <td><strong class=\"tah p10 blue01\">1</strong></td>\n",
              " </tr>\n",
              " <tr align=\"center\" onmouseout=\"mouseOut(this)\" onmouseover=\"mouseOver(this)\">\n",
              " <td><span class=\"tah p10 gray03\">2023.01.15 10:49</span></td>\n",
              " <td class=\"title\">\n",
              " <a href=\"/item/board_read.naver?code=000660&amp;nid=238702854&amp;st=&amp;sw=&amp;page=1\" onclick=\"return singleSubmitCheck();\" title=\"사람들이 위기네 적자네 할때\">사람들이 위기네 적자네 할때\n",
              " \t\t\t\t<span class=\"tah p9\" style=\"color:#639933\">[<b>1</b>]</span>\n",
              " <img height=\"10\" src=\"https://ssl.pstatic.net/imgstock/images5/new.gif\" width=\"10\"/></a></td>\n",
              " <td class=\"p11\">\n",
              " \t\t\t\tyand****\n",
              " \t\t\t</td>\n",
              " <td><span class=\"tah p10 gray03\">464</span></td>\n",
              " <td><strong class=\"tah p10 red01\">1</strong></td>\n",
              " <td><strong class=\"tah p10 blue01\">1</strong></td>\n",
              " </tr>\n",
              " <tr align=\"center\" onmouseout=\"mouseOut(this)\" onmouseover=\"mouseOver(this)\">\n",
              " <td><span class=\"tah p10 gray03\">2023.01.15 10:01</span></td>\n",
              " <td class=\"title\">\n",
              " <a href=\"/item/board_read.naver?code=000660&amp;nid=238702395&amp;st=&amp;sw=&amp;page=1\" onclick=\"return singleSubmitCheck();\" title=\"외인 지분//\">외인 지분//\n",
              " \t\t\t\t\n",
              " \t\t\t\t<img height=\"10\" src=\"https://ssl.pstatic.net/imgstock/images5/new.gif\" width=\"10\"/></a></td>\n",
              " <td class=\"p11\">\n",
              " \t\t\t\tpoiu****\n",
              " \t\t\t</td>\n",
              " <td><span class=\"tah p10 gray03\">377</span></td>\n",
              " <td><strong class=\"tah p10 gray03 \">0</strong></td>\n",
              " <td><strong class=\"tah p10 blue01\">2</strong></td>\n",
              " </tr>\n",
              " <tr>\n",
              " <td bgcolor=\"#e1e1e1\" colspan=\"7\" height=\"1\"></td>\n",
              " </tr>\n",
              " <tr align=\"center\" onmouseout=\"mouseOut(this)\" onmouseover=\"mouseOver(this)\">\n",
              " <td><span class=\"tah p10 gray03\">2023.01.15 08:49</span></td>\n",
              " <td class=\"title\">\n",
              " <a href=\"/item/board_read.naver?code=000660&amp;nid=238701759&amp;st=&amp;sw=&amp;page=1\" onclick=\"return singleSubmitCheck();\" title=\"신앙이란 남들이 말하는 부자 가난한자 유쾌한자 불쾌한자를 떠나 선한 의롭고 진실한 용기 양심ㅣ믿음의사람되는것\">신앙이란 남들이 말하는 부자 가난한자 유...\n",
              " \t\t\t\t<span class=\"tah p9\" style=\"color:#639933\">[<b>1</b>]</span>\n",
              " <img height=\"10\" src=\"https://ssl.pstatic.net/imgstock/images5/new.gif\" width=\"10\"/></a></td>\n",
              " <td class=\"p11\">\n",
              " \t\t\t\ttrue****\n",
              " \t\t\t</td>\n",
              " <td><span class=\"tah p10 gray03\">418</span></td>\n",
              " <td><strong class=\"tah p10 gray03 \">0</strong></td>\n",
              " <td><strong class=\"tah p10 gray03 \">0</strong></td>\n",
              " </tr>\n",
              " <tr align=\"center\" onmouseout=\"mouseOut(this)\" onmouseover=\"mouseOver(this)\">\n",
              " <td><span class=\"tah p10 gray03\">2023.01.15 08:15</span></td>\n",
              " <td class=\"title\">\n",
              " <a href=\"/item/board_read.naver?code=000660&amp;nid=238701591&amp;st=&amp;sw=&amp;page=1\" onclick=\"return singleSubmitCheck();\" title=\"하이닉스  전망 물어봤다\">하이닉스  전망 물어봤다\n",
              " \t\t\t\t<span class=\"tah p9\" style=\"color:#639933\">[<b>2</b>]</span>\n",
              " <img height=\"10\" src=\"https://ssl.pstatic.net/imgstock/images5/new.gif\" width=\"10\"/></a></td>\n",
              " <td class=\"p11\">\n",
              " \t\t\t\tm786****\n",
              " \t\t\t</td>\n",
              " <td><span class=\"tah p10 gray03\">763</span></td>\n",
              " <td><strong class=\"tah p10 red01\">2</strong></td>\n",
              " <td><strong class=\"tah p10 blue01\">5</strong></td>\n",
              " </tr>\n",
              " <tr align=\"center\" onmouseout=\"mouseOut(this)\" onmouseover=\"mouseOver(this)\">\n",
              " <td><span class=\"tah p10 gray03\">2023.01.15 07:52</span></td>\n",
              " <td class=\"title\">\n",
              " <a href=\"/item/board_read.naver?code=000660&amp;nid=238701458&amp;st=&amp;sw=&amp;page=1\" onclick=\"return singleSubmitCheck();\" title=\"양희삼 목사 ㅇ.ㅇ\">양희삼 목사 ㅇ.ㅇ\n",
              " \t\t\t\t<span class=\"tah p9\" style=\"color:#639933\">[<b>1</b>]</span>\n",
              " <img height=\"10\" src=\"https://ssl.pstatic.net/imgstock/images5/new.gif\" width=\"10\"/></a></td>\n",
              " <td class=\"p11\">\n",
              " \t\t\t\tk3or****\n",
              " \t\t\t</td>\n",
              " <td><span class=\"tah p10 gray03\">640</span></td>\n",
              " <td><strong class=\"tah p10 red01\">7</strong></td>\n",
              " <td><strong class=\"tah p10 blue01\">4</strong></td>\n",
              " </tr>\n",
              " <tr align=\"center\" onmouseout=\"mouseOut(this)\" onmouseover=\"mouseOver(this)\">\n",
              " <td><span class=\"tah p10 gray03\">2023.01.15 07:01</span></td>\n",
              " <td class=\"title\">\n",
              " <a href=\"/item/board_read.naver?code=000660&amp;nid=238701265&amp;st=&amp;sw=&amp;page=1\" onclick=\"return singleSubmitCheck();\" title=\"https://youtu.be/rQto1uBmeig긴급 뉴스 대장동 진실\">https://youtu.be/rQto1...\n",
              " \t\t\t\t<span class=\"tah p9\" style=\"color:#639933\">[<b>3</b>]</span>\n",
              " <img height=\"10\" src=\"https://ssl.pstatic.net/imgstock/images5/new.gif\" width=\"10\"/></a></td>\n",
              " <td class=\"p11\">\n",
              " \t\t\t\tcosm****\n",
              " \t\t\t</td>\n",
              " <td><span class=\"tah p10 gray03\">656</span></td>\n",
              " <td><strong class=\"tah p10 red01\">1</strong></td>\n",
              " <td><strong class=\"tah p10 blue01\">2</strong></td>\n",
              " </tr>\n",
              " <tr align=\"center\" onmouseout=\"mouseOut(this)\" onmouseover=\"mouseOver(this)\">\n",
              " <td><span class=\"tah p10 gray03\">2023.01.15 06:23</span></td>\n",
              " <td class=\"title\">\n",
              " <a href=\"/item/board_read.naver?code=000660&amp;nid=238701175&amp;st=&amp;sw=&amp;page=1\" onclick=\"return singleSubmitCheck();\" title=\"◎    노인 고 (老人考).    ◎\">◎    노인 고 (老人考).    ◎\n",
              " \t\t\t\t<span class=\"tah p9\" style=\"color:#639933\">[<b>1</b>]</span>\n",
              " <img height=\"10\" src=\"https://ssl.pstatic.net/imgstock/images5/new.gif\" width=\"10\"/></a></td>\n",
              " <td class=\"p11\">\n",
              " \t\t\t\tkin3****\n",
              " \t\t\t</td>\n",
              " <td><span class=\"tah p10 gray03\">546</span></td>\n",
              " <td><strong class=\"tah p10 gray03 \">0</strong></td>\n",
              " <td><strong class=\"tah p10 blue01\">1</strong></td>\n",
              " </tr>\n",
              " <tr><td colspan=\"7\" height=\"5\"></td></tr>\n",
              " </tbody>]"
            ]
          },
          "metadata": {},
          "execution_count": 48
        }
      ]
    },
    {
      "cell_type": "code",
      "source": [
        "table_day = html.select(\"table\")"
      ],
      "metadata": {
        "id": "xisjOP_mQjWY"
      },
      "execution_count": null,
      "outputs": []
    },
    {
      "cell_type": "code",
      "source": [
        "title_list = []\n",
        "url_list = []\n",
        "title_source=html.select('.title a')\n",
        "for i in tqdm(range(len(title_source))):\n",
        "    title_list.append(title_source[i]['title'])\n",
        "\n",
        "print(title_list)"
      ],
      "metadata": {
        "colab": {
          "base_uri": "https://localhost:8080/"
        },
        "id": "YRO1yekQ7lQy",
        "outputId": "9be2c575-cd0f-44b6-a3b4-3ee479c723d6"
      },
      "execution_count": null,
      "outputs": [
        {
          "output_type": "stream",
          "name": "stderr",
          "text": [
            "100%|██████████| 20/20 [00:00<00:00, 7021.52it/s]"
          ]
        },
        {
          "output_type": "stream",
          "name": "stdout",
          "text": [
            "['대통령 공약 16호 등장 ㅇ.ㅇ', '한국UN봉사단 수석 부총재 임명', '기득권 언론들은 왜 이재명 사법리스크가 있는것 처럼 매일같이 이야기를 하고 있을까. 이것은 조직적인 음모가 아닐까요', '[우리사회모든 불공정부조리 인문학사회분야해저드가 핵심원인!!]', '■■민주당 빨 갱이들의 자유 삭제', '한반도를 둘러싼 외교안보 환경이 험난하다', '어제 기시다가 미쿡에서 북중 vs 한미일 발언은ㆍ군사적인 대립을', '역사적으로 오직 나라만 생각하는  민족일보?  동아 조선??', 'KF-21보라매 함재기 수출하기 위해서...', '월요일?  보성파워텍 어떻게 될까요?', '통일 대박이 전쟁놀이터로!!', '김만배 \\'판·검사 로비\\' 정황, 실명까지 나오는데…공수처 \"수사 어려워\", 왜?', '반도체 2Q23년 회복 예상??', '사람들이 위기네 적자네 할때', '외인 지분//', '신앙이란 남들이 말하는 부자 가난한자 유쾌한자 불쾌한자를 떠나 선한 의롭고 진실한 용기 양심ㅣ믿음의사람되는것', '하이닉스  전망 물어봤다', '양희삼 목사 ㅇ.ㅇ', 'https://youtu.be/rQto1uBmeig긴급 뉴스 대장동 진실', '◎    노인 고 (老人考).    ◎']\n"
          ]
        },
        {
          "output_type": "stream",
          "name": "stderr",
          "text": [
            "\n"
          ]
        }
      ]
    },
    {
      "cell_type": "code",
      "source": [
        "date_number = 3\n",
        "date_list = []\n",
        "for i in tqdm(range(20)):\n",
        "    date_list.append(html.select(f'#content > div.section.inner_sub > table.type2 > tbody > tr:nth-of-type(4) > td:nth-of-type(1) > span'))\n",
        "\n",
        "date_content = []\n",
        "for i in range(len(date_list)):\n",
        "    date_content.append(str(date_list[-1])[-22:-14])"
      ],
      "metadata": {
        "colab": {
          "base_uri": "https://localhost:8080/"
        },
        "id": "2bhklU_eLv7K",
        "outputId": "9f21e588-5e71-43d4-b7a4-4768ad3d11b7"
      },
      "execution_count": null,
      "outputs": [
        {
          "output_type": "stream",
          "name": "stderr",
          "text": [
            "100%|██████████| 20/20 [00:00<00:00, 413.02it/s]\n"
          ]
        }
      ]
    },
    {
      "cell_type": "code",
      "source": [
        "print(title_list[:6]), print(date_content[:7])"
      ],
      "metadata": {
        "colab": {
          "base_uri": "https://localhost:8080/"
        },
        "id": "c_d2cSTsTJyj",
        "outputId": "cd60694c-6aac-4a96-89f1-2afe4b8fc04f"
      },
      "execution_count": null,
      "outputs": [
        {
          "output_type": "stream",
          "name": "stdout",
          "text": [
            "['대통령 공약 16호 등장 ㅇ.ㅇ', '한국UN봉사단 수석 부총재 임명', '기득권 언론들은 왜 이재명 사법리스크가 있는것 처럼 매일같이 이야기를 하고 있을까. 이것은 조직적인 음모가 아닐까요', '[우리사회모든 불공정부조리 인문학사회분야해저드가 핵심원인!!]', '■■민주당 빨 갱이들의 자유 삭제', '한반도를 둘러싼 외교안보 환경이 험난하다']\n",
            "['23.01.15', '23.01.15', '23.01.15', '23.01.15', '23.01.15', '23.01.15', '23.01.15']\n"
          ]
        },
        {
          "output_type": "execute_result",
          "data": {
            "text/plain": [
              "(None, None)"
            ]
          },
          "metadata": {},
          "execution_count": 55
        }
      ]
    },
    {
      "cell_type": "code",
      "source": [
        "def get_html(page_no):\n",
        "    headers = {'user-agent':'Mozilla/5.0'}\n",
        "    url = f\"https://finance.naver.com/item/board.naver?code={item_code}&page={page_no}\"\n",
        "    response=requests.get(url, headers=headers)\n",
        "    html=bs(response.text)\n",
        "    time.sleep(0.01)\n",
        "    return html"
      ],
      "metadata": {
        "id": "AVSvrgphgdum"
      },
      "execution_count": null,
      "outputs": []
    },
    {
      "cell_type": "code",
      "source": [
        "def get_title(page_no):\n",
        "    bs_html = get_html(page_no)\n",
        "    title_list = []\n",
        "    title_source = bs_html.select('.title a')\n",
        "    for i in tqdm(range(len(title_source))):\n",
        "        title_list.append(title_source[i]['title'])\n",
        "    return title_list\n",
        "\n",
        "def get_date(page_no):\n",
        "    bs_html = get_html(page_no)\n",
        "    date_list = []\n",
        "    for i in tqdm(range(20)):\n",
        "        date_list.append(bs_html.select(f'#content > div.section.inner_sub > table.type2 > tbody > tr:nth-of-type(4) > td:nth-of-type(1) > span'))\n",
        "\n",
        "    date_content = []\n",
        "    for i in range(len(date_list)):\n",
        "        date_content.append(str(date_list[i])[-22:-14])\n",
        "    return date_content"
      ],
      "metadata": {
        "id": "X3Ou3zXKgXi-"
      },
      "execution_count": null,
      "outputs": []
    },
    {
      "cell_type": "code",
      "source": [
        "def get_title_date(page):\n",
        "\n",
        "    title_list = []\n",
        "    date_list = []\n",
        "    for i in range(1,page):\n",
        "        title_list.append(get_title(i))\n",
        "        date_list.append(get_date(i))\n",
        "        time.sleep(0.01)\n",
        "\n",
        "    final_title = []\n",
        "    final_date = []\n",
        "    for i in range(len(title_list)):\n",
        "        for j in range(len(title_list)):\n",
        "            final_title.append(title_list[i][j])\n",
        "            final_date.append(date_list[i][j])\n",
        "\n",
        "    df=pd.DataFrame({'title':final_title,\n",
        "                     'date':final_date})\n",
        "    df=df.drop_duplicates()\n",
        "    return df"
      ],
      "metadata": {
        "id": "UH6tvBiwYhcY"
      },
      "execution_count": null,
      "outputs": []
    },
    {
      "cell_type": "code",
      "source": [
        "df = get_title_date(last_page)"
      ],
      "metadata": {
        "colab": {
          "base_uri": "https://localhost:8080/"
        },
        "id": "_Scq-DE2UKba",
        "outputId": "28c49f31-1f02-4ce0-c75c-92a89818fd3f"
      },
      "execution_count": null,
      "outputs": [
        {
          "output_type": "stream",
          "name": "stderr",
          "text": [
            "100%|██████████| 20/20 [00:00<00:00, 110960.42it/s]\n",
            "100%|██████████| 20/20 [00:00<00:00, 488.60it/s]\n",
            "100%|██████████| 20/20 [00:00<00:00, 161009.75it/s]\n",
            "100%|██████████| 20/20 [00:00<00:00, 501.93it/s]\n",
            "100%|██████████| 20/20 [00:00<00:00, 131896.35it/s]\n",
            "100%|██████████| 20/20 [00:00<00:00, 479.81it/s]\n",
            "100%|██████████| 20/20 [00:00<00:00, 155922.08it/s]\n",
            "100%|██████████| 20/20 [00:00<00:00, 499.73it/s]\n",
            "100%|██████████| 20/20 [00:00<00:00, 151146.09it/s]\n",
            "100%|██████████| 20/20 [00:00<00:00, 521.90it/s]\n",
            "100%|██████████| 20/20 [00:00<00:00, 19297.46it/s]\n",
            "100%|██████████| 20/20 [00:00<00:00, 471.63it/s]\n",
            "100%|██████████| 20/20 [00:00<00:00, 130257.89it/s]\n",
            "100%|██████████| 20/20 [00:00<00:00, 500.06it/s]\n",
            "100%|██████████| 20/20 [00:00<00:00, 134865.08it/s]\n",
            "100%|██████████| 20/20 [00:00<00:00, 530.27it/s]\n",
            "100%|██████████| 20/20 [00:00<00:00, 124460.06it/s]\n",
            "100%|██████████| 20/20 [00:00<00:00, 471.05it/s]\n",
            "100%|██████████| 20/20 [00:00<00:00, 109226.67it/s]\n",
            "100%|██████████| 20/20 [00:00<00:00, 512.53it/s]\n"
          ]
        }
      ]
    },
    {
      "cell_type": "code",
      "source": [
        "%%time\n",
        "get_title_date(10)"
      ],
      "metadata": {
        "colab": {
          "base_uri": "https://localhost:8080/",
          "height": 793
        },
        "id": "wOrYJvijRXK_",
        "outputId": "91addc86-085e-40b6-9309-2be19932102c"
      },
      "execution_count": null,
      "outputs": [
        {
          "output_type": "stream",
          "name": "stderr",
          "text": [
            "100%|██████████| 20/20 [00:00<00:00, 12219.39it/s]\n",
            "100%|██████████| 20/20 [00:00<00:00, 457.28it/s]\n",
            "100%|██████████| 20/20 [00:00<00:00, 142421.19it/s]\n",
            "100%|██████████| 20/20 [00:00<00:00, 473.14it/s]\n",
            "100%|██████████| 20/20 [00:00<00:00, 151146.09it/s]\n",
            "100%|██████████| 20/20 [00:00<00:00, 513.16it/s]\n",
            "100%|██████████| 20/20 [00:00<00:00, 141699.46it/s]\n",
            "100%|██████████| 20/20 [00:00<00:00, 502.14it/s]\n",
            "100%|██████████| 20/20 [00:00<00:00, 140512.70it/s]\n",
            "100%|██████████| 20/20 [00:00<00:00, 494.83it/s]\n",
            "100%|██████████| 20/20 [00:00<00:00, 141699.46it/s]\n",
            "100%|██████████| 20/20 [00:00<00:00, 522.00it/s]\n",
            "100%|██████████| 20/20 [00:00<00:00, 138425.87it/s]\n",
            "100%|██████████| 20/20 [00:00<00:00, 495.90it/s]\n",
            "100%|██████████| 20/20 [00:00<00:00, 25755.63it/s]\n",
            "100%|██████████| 20/20 [00:00<00:00, 514.53it/s]\n",
            "100%|██████████| 20/20 [00:00<00:00, 109369.07it/s]\n",
            "100%|██████████| 20/20 [00:00<00:00, 508.93it/s]"
          ]
        },
        {
          "output_type": "stream",
          "name": "stdout",
          "text": [
            "CPU times: user 1.81 s, sys: 27.6 ms, total: 1.84 s\n",
            "Wall time: 19.3 s\n"
          ]
        },
        {
          "output_type": "stream",
          "name": "stderr",
          "text": [
            "\n"
          ]
        },
        {
          "output_type": "execute_result",
          "data": {
            "text/plain": [
              "                                                title      date\n",
              "0                                     경찰   오래  지낸  결과  23.01.15\n",
              "1                                                 이재명  23.01.15\n",
              "2                                   대통령 공약 16호 등장 ㅇ.ㅇ  23.01.15\n",
              "3                                   한국UN봉사단 수석 부총재 임명  23.01.15\n",
              "4   기득권 언론들은 왜 이재명 사법리스크가 있는것 처럼 매일같이 이야기를 하고 있을까....  23.01.15\n",
              "..                                                ...       ...\n",
              "76                            '정영학 녹취록'에 등장한 윤갑근은 누구?  23.01.13\n",
              "77                     바보같은 개미들아 제발 팔지마라. 반도체 판이 바켰다.  23.01.13\n",
              "78                                        돈 좀 있는 애들이면  23.01.13\n",
              "79                                          잠잠하게 오른다~  23.01.13\n",
              "80                                           6개월 유아원생  23.01.13\n",
              "\n",
              "[81 rows x 2 columns]"
            ],
            "text/html": [
              "\n",
              "  <div id=\"df-02079cc2-788a-4c99-a355-0bada0637b7e\">\n",
              "    <div class=\"colab-df-container\">\n",
              "      <div>\n",
              "<style scoped>\n",
              "    .dataframe tbody tr th:only-of-type {\n",
              "        vertical-align: middle;\n",
              "    }\n",
              "\n",
              "    .dataframe tbody tr th {\n",
              "        vertical-align: top;\n",
              "    }\n",
              "\n",
              "    .dataframe thead th {\n",
              "        text-align: right;\n",
              "    }\n",
              "</style>\n",
              "<table border=\"1\" class=\"dataframe\">\n",
              "  <thead>\n",
              "    <tr style=\"text-align: right;\">\n",
              "      <th></th>\n",
              "      <th>title</th>\n",
              "      <th>date</th>\n",
              "    </tr>\n",
              "  </thead>\n",
              "  <tbody>\n",
              "    <tr>\n",
              "      <th>0</th>\n",
              "      <td>경찰   오래  지낸  결과</td>\n",
              "      <td>23.01.15</td>\n",
              "    </tr>\n",
              "    <tr>\n",
              "      <th>1</th>\n",
              "      <td>이재명</td>\n",
              "      <td>23.01.15</td>\n",
              "    </tr>\n",
              "    <tr>\n",
              "      <th>2</th>\n",
              "      <td>대통령 공약 16호 등장 ㅇ.ㅇ</td>\n",
              "      <td>23.01.15</td>\n",
              "    </tr>\n",
              "    <tr>\n",
              "      <th>3</th>\n",
              "      <td>한국UN봉사단 수석 부총재 임명</td>\n",
              "      <td>23.01.15</td>\n",
              "    </tr>\n",
              "    <tr>\n",
              "      <th>4</th>\n",
              "      <td>기득권 언론들은 왜 이재명 사법리스크가 있는것 처럼 매일같이 이야기를 하고 있을까....</td>\n",
              "      <td>23.01.15</td>\n",
              "    </tr>\n",
              "    <tr>\n",
              "      <th>...</th>\n",
              "      <td>...</td>\n",
              "      <td>...</td>\n",
              "    </tr>\n",
              "    <tr>\n",
              "      <th>76</th>\n",
              "      <td>'정영학 녹취록'에 등장한 윤갑근은 누구?</td>\n",
              "      <td>23.01.13</td>\n",
              "    </tr>\n",
              "    <tr>\n",
              "      <th>77</th>\n",
              "      <td>바보같은 개미들아 제발 팔지마라. 반도체 판이 바켰다.</td>\n",
              "      <td>23.01.13</td>\n",
              "    </tr>\n",
              "    <tr>\n",
              "      <th>78</th>\n",
              "      <td>돈 좀 있는 애들이면</td>\n",
              "      <td>23.01.13</td>\n",
              "    </tr>\n",
              "    <tr>\n",
              "      <th>79</th>\n",
              "      <td>잠잠하게 오른다~</td>\n",
              "      <td>23.01.13</td>\n",
              "    </tr>\n",
              "    <tr>\n",
              "      <th>80</th>\n",
              "      <td>6개월 유아원생</td>\n",
              "      <td>23.01.13</td>\n",
              "    </tr>\n",
              "  </tbody>\n",
              "</table>\n",
              "<p>81 rows × 2 columns</p>\n",
              "</div>\n",
              "      <button class=\"colab-df-convert\" onclick=\"convertToInteractive('df-02079cc2-788a-4c99-a355-0bada0637b7e')\"\n",
              "              title=\"Convert this dataframe to an interactive table.\"\n",
              "              style=\"display:none;\">\n",
              "        \n",
              "  <svg xmlns=\"http://www.w3.org/2000/svg\" height=\"24px\"viewBox=\"0 0 24 24\"\n",
              "       width=\"24px\">\n",
              "    <path d=\"M0 0h24v24H0V0z\" fill=\"none\"/>\n",
              "    <path d=\"M18.56 5.44l.94 2.06.94-2.06 2.06-.94-2.06-.94-.94-2.06-.94 2.06-2.06.94zm-11 1L8.5 8.5l.94-2.06 2.06-.94-2.06-.94L8.5 2.5l-.94 2.06-2.06.94zm10 10l.94 2.06.94-2.06 2.06-.94-2.06-.94-.94-2.06-.94 2.06-2.06.94z\"/><path d=\"M17.41 7.96l-1.37-1.37c-.4-.4-.92-.59-1.43-.59-.52 0-1.04.2-1.43.59L10.3 9.45l-7.72 7.72c-.78.78-.78 2.05 0 2.83L4 21.41c.39.39.9.59 1.41.59.51 0 1.02-.2 1.41-.59l7.78-7.78 2.81-2.81c.8-.78.8-2.07 0-2.86zM5.41 20L4 18.59l7.72-7.72 1.47 1.35L5.41 20z\"/>\n",
              "  </svg>\n",
              "      </button>\n",
              "      \n",
              "  <style>\n",
              "    .colab-df-container {\n",
              "      display:flex;\n",
              "      flex-wrap:wrap;\n",
              "      gap: 12px;\n",
              "    }\n",
              "\n",
              "    .colab-df-convert {\n",
              "      background-color: #E8F0FE;\n",
              "      border: none;\n",
              "      border-radius: 50%;\n",
              "      cursor: pointer;\n",
              "      display: none;\n",
              "      fill: #1967D2;\n",
              "      height: 32px;\n",
              "      padding: 0 0 0 0;\n",
              "      width: 32px;\n",
              "    }\n",
              "\n",
              "    .colab-df-convert:hover {\n",
              "      background-color: #E2EBFA;\n",
              "      box-shadow: 0px 1px 2px rgba(60, 64, 67, 0.3), 0px 1px 3px 1px rgba(60, 64, 67, 0.15);\n",
              "      fill: #174EA6;\n",
              "    }\n",
              "\n",
              "    [theme=dark] .colab-df-convert {\n",
              "      background-color: #3B4455;\n",
              "      fill: #D2E3FC;\n",
              "    }\n",
              "\n",
              "    [theme=dark] .colab-df-convert:hover {\n",
              "      background-color: #434B5C;\n",
              "      box-shadow: 0px 1px 3px 1px rgba(0, 0, 0, 0.15);\n",
              "      filter: drop-shadow(0px 1px 2px rgba(0, 0, 0, 0.3));\n",
              "      fill: #FFFFFF;\n",
              "    }\n",
              "  </style>\n",
              "\n",
              "      <script>\n",
              "        const buttonEl =\n",
              "          document.querySelector('#df-02079cc2-788a-4c99-a355-0bada0637b7e button.colab-df-convert');\n",
              "        buttonEl.style.display =\n",
              "          google.colab.kernel.accessAllowed ? 'block' : 'none';\n",
              "\n",
              "        async function convertToInteractive(key) {\n",
              "          const element = document.querySelector('#df-02079cc2-788a-4c99-a355-0bada0637b7e');\n",
              "          const dataTable =\n",
              "            await google.colab.kernel.invokeFunction('convertToInteractive',\n",
              "                                                     [key], {});\n",
              "          if (!dataTable) return;\n",
              "\n",
              "          const docLinkHtml = 'Like what you see? Visit the ' +\n",
              "            '<a target=\"_blank\" href=https://colab.research.google.com/notebooks/data_table.ipynb>data table notebook</a>'\n",
              "            + ' to learn more about interactive tables.';\n",
              "          element.innerHTML = '';\n",
              "          dataTable['output_type'] = 'display_data';\n",
              "          await google.colab.output.renderOutput(dataTable, element);\n",
              "          const docLink = document.createElement('div');\n",
              "          docLink.innerHTML = docLinkHtml;\n",
              "          element.appendChild(docLink);\n",
              "        }\n",
              "      </script>\n",
              "    </div>\n",
              "  </div>\n",
              "  "
            ]
          },
          "metadata": {},
          "execution_count": 70
        }
      ]
    },
    {
      "cell_type": "code",
      "source": [],
      "metadata": {
        "id": "qOC5EkzDzCMe"
      },
      "execution_count": null,
      "outputs": []
    }
  ]
}